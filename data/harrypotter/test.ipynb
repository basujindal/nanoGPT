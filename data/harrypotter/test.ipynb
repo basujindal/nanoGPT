{
 "cells": [
  {
   "cell_type": "code",
   "execution_count": 1,
   "metadata": {},
   "outputs": [
    {
     "ename": "PermissionError",
     "evalue": "[Errno 13] Permission denied: \"/root/data/nanoGPT/data/harrypotter/Book 1 - The Philosopher's Stone.txt\"",
     "output_type": "error",
     "traceback": [
      "\u001b[0;31m---------------------------------------------------------------------------\u001b[0m",
      "\u001b[0;31mPermissionError\u001b[0m                           Traceback (most recent call last)",
      "\u001b[1;32m/data/li/workspace_basu/nanoGPT/data/harrypotter/test.ipynb Cell 1\u001b[0m in \u001b[0;36m<cell line: 10>\u001b[0;34m()\u001b[0m\n\u001b[1;32m      <a href='vscode-notebook-cell://ssh-remote%2Bece228-3.ucsd.edu/data/li/workspace_basu/nanoGPT/data/harrypotter/test.ipynb#W0sdnNjb2RlLXJlbW90ZQ%3D%3D?line=6'>7</a>\u001b[0m filename \u001b[39m=\u001b[39m \u001b[39m\"\u001b[39m\u001b[39mBook 1 - The Philosopher\u001b[39m\u001b[39m'\u001b[39m\u001b[39ms Stone.txt\u001b[39m\u001b[39m\"\u001b[39m\n\u001b[1;32m      <a href='vscode-notebook-cell://ssh-remote%2Bece228-3.ucsd.edu/data/li/workspace_basu/nanoGPT/data/harrypotter/test.ipynb#W0sdnNjb2RlLXJlbW90ZQ%3D%3D?line=7'>8</a>\u001b[0m input_file_path \u001b[39m=\u001b[39m \u001b[39m\"\u001b[39m\u001b[39m/root/data/nanoGPT/data/harrypotter/Book 1 - The Philosopher\u001b[39m\u001b[39m'\u001b[39m\u001b[39ms Stone.txt\u001b[39m\u001b[39m\"\u001b[39m\n\u001b[0;32m---> <a href='vscode-notebook-cell://ssh-remote%2Bece228-3.ucsd.edu/data/li/workspace_basu/nanoGPT/data/harrypotter/test.ipynb#W0sdnNjb2RlLXJlbW90ZQ%3D%3D?line=9'>10</a>\u001b[0m \u001b[39mwith\u001b[39;00m \u001b[39mopen\u001b[39;49m(input_file_path, \u001b[39m'\u001b[39;49m\u001b[39mr\u001b[39;49m\u001b[39m'\u001b[39;49m) \u001b[39mas\u001b[39;00m f:\n\u001b[1;32m     <a href='vscode-notebook-cell://ssh-remote%2Bece228-3.ucsd.edu/data/li/workspace_basu/nanoGPT/data/harrypotter/test.ipynb#W0sdnNjb2RlLXJlbW90ZQ%3D%3D?line=10'>11</a>\u001b[0m     data \u001b[39m=\u001b[39m f\u001b[39m.\u001b[39mread()\n\u001b[1;32m     <a href='vscode-notebook-cell://ssh-remote%2Bece228-3.ucsd.edu/data/li/workspace_basu/nanoGPT/data/harrypotter/test.ipynb#W0sdnNjb2RlLXJlbW90ZQ%3D%3D?line=11'>12</a>\u001b[0m n \u001b[39m=\u001b[39m \u001b[39mlen\u001b[39m(data)\n",
      "\u001b[0;31mPermissionError\u001b[0m: [Errno 13] Permission denied: \"/root/data/nanoGPT/data/harrypotter/Book 1 - The Philosopher's Stone.txt\""
     ]
    }
   ],
   "source": [
    "import os\n",
    "import requests\n",
    "import tiktoken\n",
    "import numpy as np\n",
    "\n",
    "\n",
    "filename = \"Book 1 - The Philosopher's Stone.txt\"\n",
    "input_file_path = \"/root/data/nanoGPT/data/harrypotter/Book 1 - The Philosopher's Stone.txt\"\n",
    "\n",
    "with open(input_file_path, 'r') as f:\n",
    "    data = f.read()\n",
    "n = len(data)\n",
    "train_data = data[:int(n*0.9)]\n",
    "val_data = data[int(n*0.9):]\n",
    "\n",
    "# encode with tiktoken gpt2 bpe\n",
    "enc = tiktoken.get_encoding(\"gpt2\")\n",
    "train_ids = enc.encode_ordinary(train_data)\n",
    "val_ids = enc.encode_ordinary(val_data)\n",
    "print(f\"train has {len(train_ids):,} tokens\")\n",
    "print(f\"val has {len(val_ids):,} tokens\")\n",
    "\n",
    "# export to bin files\n",
    "train_ids = np.array(train_ids, dtype=np.uint16)\n",
    "val_ids = np.array(val_ids, dtype=np.uint16)"
   ]
  },
  {
   "cell_type": "code",
   "execution_count": 2,
   "metadata": {},
   "outputs": [
    {
     "ename": "PermissionError",
     "evalue": "[Errno 13] Permission denied: '/root/data/nanoGPT/data/harrypotter/train.bin'",
     "output_type": "error",
     "traceback": [
      "\u001b[0;31m---------------------------------------------------------------------------\u001b[0m",
      "\u001b[0;31mPermissionError\u001b[0m                           Traceback (most recent call last)",
      "\u001b[1;32m/data/li/workspace_basu/nanoGPT/data/harrypotter/test.ipynb Cell 2\u001b[0m in \u001b[0;36m<cell line: 3>\u001b[0;34m()\u001b[0m\n\u001b[1;32m      <a href='vscode-notebook-cell://ssh-remote%2Bece228-3.ucsd.edu/data/li/workspace_basu/nanoGPT/data/harrypotter/test.ipynb#W1sdnNjb2RlLXJlbW90ZQ%3D%3D?line=0'>1</a>\u001b[0m \u001b[39m## open /data/li/workspace_basu/nanoGPT/data/harrypotter/train.bin as np array\u001b[39;00m\n\u001b[0;32m----> <a href='vscode-notebook-cell://ssh-remote%2Bece228-3.ucsd.edu/data/li/workspace_basu/nanoGPT/data/harrypotter/test.ipynb#W1sdnNjb2RlLXJlbW90ZQ%3D%3D?line=2'>3</a>\u001b[0m \u001b[39mwith\u001b[39;00m \u001b[39mopen\u001b[39;49m(\u001b[39m\"\u001b[39;49m\u001b[39m/root/data/nanoGPT/data/harrypotter/train.bin\u001b[39;49m\u001b[39m\"\u001b[39;49m, \u001b[39m'\u001b[39;49m\u001b[39mr\u001b[39;49m\u001b[39m'\u001b[39;49m) \u001b[39mas\u001b[39;00m f:\n\u001b[1;32m      <a href='vscode-notebook-cell://ssh-remote%2Bece228-3.ucsd.edu/data/li/workspace_basu/nanoGPT/data/harrypotter/test.ipynb#W1sdnNjb2RlLXJlbW90ZQ%3D%3D?line=3'>4</a>\u001b[0m     train_ids \u001b[39m=\u001b[39m np\u001b[39m.\u001b[39mfromfile(f, dtype\u001b[39m=\u001b[39mnp\u001b[39m.\u001b[39muint16)\n\u001b[1;32m      <a href='vscode-notebook-cell://ssh-remote%2Bece228-3.ucsd.edu/data/li/workspace_basu/nanoGPT/data/harrypotter/test.ipynb#W1sdnNjb2RlLXJlbW90ZQ%3D%3D?line=4'>5</a>\u001b[0m     \u001b[39mprint\u001b[39m(train_ids\u001b[39m.\u001b[39mshape)\n",
      "\u001b[0;31mPermissionError\u001b[0m: [Errno 13] Permission denied: '/root/data/nanoGPT/data/harrypotter/train.bin'"
     ]
    }
   ],
   "source": [
    "## open /data/li/workspace_basu/nanoGPT/data/harrypotter/train.bin as np array\n",
    "\n",
    "with open(\"/root/data/nanoGPT/data/harrypotter/train.bin\", 'r') as f:\n",
    "    train_ids = np.fromfile(f, dtype=np.uint16)\n",
    "    print(train_ids.shape)"
   ]
  },
  {
   "cell_type": "code",
   "execution_count": 16,
   "metadata": {},
   "outputs": [
    {
     "name": "stdout",
     "output_type": "stream",
     "text": [
      "(134786,)\n"
     ]
    }
   ],
   "source": [
    "print(train_ids.shape)"
   ]
  }
 ],
 "metadata": {
  "kernelspec": {
   "display_name": "myenv",
   "language": "python",
   "name": "python3"
  },
  "language_info": {
   "codemirror_mode": {
    "name": "ipython",
    "version": 3
   },
   "file_extension": ".py",
   "mimetype": "text/x-python",
   "name": "python",
   "nbconvert_exporter": "python",
   "pygments_lexer": "ipython3",
   "version": "3.8.16"
  },
  "orig_nbformat": 4
 },
 "nbformat": 4,
 "nbformat_minor": 2
}
