{
 "cells": [
  {
   "cell_type": "code",
   "execution_count": 16,
   "metadata": {},
   "outputs": [],
   "source": [
    "import os\n",
    "import time\n",
    "import math\n",
    "import pickle\n",
    "from contextlib import nullcontext\n",
    "import numpy as np\n",
    "from tqdm import trange\n",
    "import torch\n",
    "import torch.nn.functional as F\n",
    "# from torcheval.metrics.text import Perplexity\n",
    "from torch.nn.parallel import DistributedDataParallel as DDP\n",
    "from torch.distributed import init_process_group, destroy_process_group\n",
    "from utils import load_model, Sampler, get_batch, configure_optimizers, time_gpu, get_pred_idxs\n",
    "\n",
    "encoded = pickle.load(open('../cptData/llava/encoded.pkl', 'rb'))\n",
    "img_idxs = pickle.load(open('../cptData/llava/img_idxs.pkl', 'rb'))\n",
    "encoded_imgs = torch.load('../cptData/llava/all_features.pt')\n",
    "\n",
    "train_data = encoded[:int(len(encoded)*0.9)]\n",
    "val_data = encoded[int(len(encoded)*0.9):]\n",
    "train_idxs = img_idxs[:int(len(img_idxs)*0.9)]\n",
    "val_idxs = img_idxs[int(len(img_idxs)*0.9):]"
   ]
  },
  {
   "cell_type": "code",
   "execution_count": 18,
   "metadata": {},
   "outputs": [
    {
     "data": {
      "text/plain": [
       "tensor([  835,  2659, 29901,  1724,  1795,   367,   278,  7306,   470, 12091,\n",
       "          310,   278,  2071,   631, 15859,   278, 12500, 29973,    13,  2277,\n",
       "        29937, 29933,   327, 29901,  1576,  2071,   631, 15859,   278, 12500,\n",
       "         1795,   367, 12242,   292,   304,  1510,  4878,  1009, 25078,   297,\n",
       "        14911,   616,   767, 12932,   874,   470,  3763, 11418,  5414,   278,\n",
       "         1468,   453,   310,   278, 12500, 29889,   739,   338,  1950,   393,\n",
       "          896,   526,  5221,  1218,   297,   263, 14993,   292, 13888,   470,\n",
       "         1741,   988, 14012,   432, 17204,   322,   380,   348,  1372,   526,\n",
       "          760,   310,   278, 11780,   304,  6176,   263,  1880,  8158, 29889,\n",
       "        20360, 29892,   896,  1122,   367,   263, 28709,  1288,  2071,   631,\n",
       "        25738,   278, 29163,   322,   594,  1267,   284,   457,   364,  1878,\n",
       "         6942,   411, 15859,   432, 17204,   373,   263,  1623, 29131,  3236,\n",
       "        29889,   450,  2071,   631, 29915, 29879,  7306,   470, 12091,  1033,\n",
       "          367,   263, 10296,   310,  7333, 26470, 29892, 19911,  5849, 29892,\n",
       "          322,  1583, 29899, 17471,  1549,   445,   270,  4362,   322, 17623,\n",
       "          332,   681,  7980, 29889,     2], device='cuda:0')"
      ]
     },
     "execution_count": 18,
     "metadata": {},
     "output_type": "execute_result"
    }
   ],
   "source": [
    "def get_batch(i, train, device):\n",
    "    if train:\n",
    "        return torch.tensor(train_data[i], device=device), encoded_imgs[train_idxs[i]].to(device)\n",
    "    else:\n",
    "        return torch.tensor(val_data[i], device=device),  encoded_imgs[val_idxs[i]].to(device)\n",
    "    \n",
    "get_batch(0, False, 'cuda')[0]"
   ]
  },
  {
   "cell_type": "code",
   "execution_count": 31,
   "metadata": {},
   "outputs": [],
   "source": [
    "# !pip install open_clip_torch \n",
    "import open_clip\n",
    "import torch\n",
    "import matplotlib.pyplot as plt\n",
    "import os\n",
    "import json\n",
    "from PIL import Image\n",
    "from tqdm import trange\n",
    "import numpy as np\n",
    "from utils import time_gpu\n",
    "\n",
    "from torchvision.transforms import Compose, Resize, CenterCrop, ToTensor, Normalize"
   ]
  },
  {
   "cell_type": "code",
   "execution_count": 2,
   "metadata": {},
   "outputs": [
    {
     "name": "stdout",
     "output_type": "stream",
     "text": [
      "2.539567105\n"
     ]
    }
   ],
   "source": [
    "model, _, preprocess = open_clip.create_model_and_transforms('ViT-bigG-14', pretrained='laion2b_s39b_b160k')\n",
    "print(sum(p.numel() for p in model.parameters() if p.requires_grad)/1e9)"
   ]
  },
  {
   "cell_type": "code",
   "execution_count": 3,
   "metadata": {},
   "outputs": [],
   "source": [
    "model.to(torch.bfloat16)\n",
    "device  = torch.device('cuda')\n",
    "model = model.to(device)"
   ]
  },
  {
   "cell_type": "code",
   "execution_count": 108,
   "metadata": {},
   "outputs": [
    {
     "name": "stdout",
     "output_type": "stream",
     "text": [
      "(375, 500) (631, 640)\n",
      "(500, 375, 3) (640, 631)\n"
     ]
    }
   ],
   "source": [
    "pth = '../cptData/llava/train2014/COCO_train2014_000000482499.jpg'\n",
    "pth2 = '../cptData/llava/train2014/COCO_train2014_000000517899.jpg'\n",
    "\n",
    "# open image using PIL and print its size\n",
    "\n",
    "print(Image.open(pth).size, Image.open(pth2).size)\n",
    "\n",
    "## convert image to numpy array and print its size\n",
    "\n",
    "img = np.array(Image.open(pth))\n",
    "img2 = np.array(Image.open(pth2))\n",
    "\n",
    "print(img.shape, img2.shape)"
   ]
  },
  {
   "cell_type": "code",
   "execution_count": 9,
   "metadata": {},
   "outputs": [
    {
     "name": "stdout",
     "output_type": "stream",
     "text": [
      "Label probs: tensor([[1.7643e-05, 5.0000e-01, 5.0000e-01]], device='cuda:0',\n",
      "       dtype=torch.bfloat16)\n"
     ]
    }
   ],
   "source": [
    "tokenizer = open_clip.get_tokenizer('ViT-B-32')\n",
    "\n",
    "image = preprocess(Image.open('../cptData/llava/train2014/COCO_train2014_000000482499.jpg')).unsqueeze(0)\n",
    "text = tokenizer([\"a cave\", \"a cement bag\", \"a toilet\"])\n",
    "\n",
    "with torch.no_grad():\n",
    "    image_features = model.encode_image(image.to(device).to(torch.bfloat16))\n",
    "    text_features = model.encode_text(text.to(device))\n",
    "    image_features /= image_features.norm(dim=-1, keepdim=True)\n",
    "    text_features /= text_features.norm(dim=-1, keepdim=True)\n",
    "\n",
    "    text_probs = (100.0 * image_features @ text_features.T).softmax(dim=-1)\n",
    "\n",
    "print(\"Label probs:\", text_probs)  # prints: [[1., 0., 0.]]"
   ]
  },
  {
   "cell_type": "code",
   "execution_count": 1,
   "metadata": {},
   "outputs": [
    {
     "name": "stdout",
     "output_type": "stream",
     "text": [
      "/home/li/basu_workspace/nanoGPT\n"
     ]
    },
    {
     "name": "stderr",
     "output_type": "stream",
     "text": [
      "/home/li/.local/lib/python3.8/site-packages/tqdm/auto.py:21: TqdmWarning: IProgress not found. Please update jupyter and ipywidgets. See https://ipywidgets.readthedocs.io/en/stable/user_install.html\n",
      "  from .autonotebook import tqdm as notebook_tqdm\n",
      "Found cached dataset json (/home/li/.cache/huggingface/datasets/liuhaotian___json/liuhaotian--LLaVA-Instruct-150K-1764f60a2e27bb0f/0.0.0/e347ab1c932092252e717ff3f949105a4dd28b27e842dd53157d2f72e276c2e4)\n",
      "100%|██████████| 1/1 [00:00<00:00,  4.24it/s]\n"
     ]
    }
   ],
   "source": [
    "import numpy as np\n",
    "import sys\n",
    "import os\n",
    "import json\n",
    "from tqdm import trange\n",
    "\n",
    "pth = os.path.abspath(os.path.dirname(os.path.dirname(os.path.dirname(\"__file__\"))))\n",
    "\n",
    "print(pth)\n",
    "###################################################################################################                          \n",
    "\n",
    "## LLaVA-Instruct-150K\n",
    "\n",
    "from datasets import load_dataset\n",
    "dataset = load_dataset(\"liuhaotian/LLaVA-Instruct-150K\")"
   ]
  },
  {
   "cell_type": "code",
   "execution_count": 15,
   "metadata": {},
   "outputs": [
    {
     "name": "stderr",
     "output_type": "stream",
     "text": [
      "100%|██████████| 394276/394276 [05:20<00:00, 1229.63it/s]\n"
     ]
    },
    {
     "ename": "NameError",
     "evalue": "name 'pickle' is not defined",
     "output_type": "error",
     "traceback": [
      "\u001b[0;31m---------------------------------------------------------------------------\u001b[0m",
      "\u001b[0;31mNameError\u001b[0m                                 Traceback (most recent call last)",
      "\u001b[1;32m/home/li/basu_workspace/nanoGPT/test.ipynb Cell 9\u001b[0m in \u001b[0;36m<cell line: 8>\u001b[0;34m()\u001b[0m\n\u001b[1;32m      <a href='vscode-notebook-cell://ssh-remote%2Bece228-3.ucsd.edu/home/li/basu_workspace/nanoGPT/test.ipynb#X33sdnNjb2RlLXJlbW90ZQ%3D%3D?line=3'>4</a>\u001b[0m     img_idxs\u001b[39m.\u001b[39mappend(dir_imgs\u001b[39m.\u001b[39mindex(img))\n\u001b[1;32m      <a href='vscode-notebook-cell://ssh-remote%2Bece228-3.ucsd.edu/home/li/basu_workspace/nanoGPT/test.ipynb#X33sdnNjb2RlLXJlbW90ZQ%3D%3D?line=5'>6</a>\u001b[0m \u001b[39massert\u001b[39;00m \u001b[39mlen\u001b[39m(img_idxs) \u001b[39m==\u001b[39m \u001b[39mlen\u001b[39m(dataset[\u001b[39m'\u001b[39m\u001b[39mtrain\u001b[39m\u001b[39m'\u001b[39m])\n\u001b[0;32m----> <a href='vscode-notebook-cell://ssh-remote%2Bece228-3.ucsd.edu/home/li/basu_workspace/nanoGPT/test.ipynb#X33sdnNjb2RlLXJlbW90ZQ%3D%3D?line=7'>8</a>\u001b[0m pickle\u001b[39m.\u001b[39mdump(img_idxs, \u001b[39mopen\u001b[39m(\u001b[39m'\u001b[39m\u001b[39m../cptData/llava/img_idxs.pkl\u001b[39m\u001b[39m'\u001b[39m, \u001b[39m'\u001b[39m\u001b[39mwb\u001b[39m\u001b[39m'\u001b[39m))\n",
      "\u001b[0;31mNameError\u001b[0m: name 'pickle' is not defined"
     ]
    }
   ],
   "source": [
    "import pickle\n",
    "\n",
    "pth = '../cptData/llava/train2014'\n",
    "dir_imgs = os.listdir(pth)\n",
    "\n",
    "img_idxs = []\n",
    "for i in trange(len(dataset['train'])):\n",
    "    img = 'COCO_train2014_' + dataset['train'][i]['image']\n",
    "    img_idxs.append(dir_imgs.index(img))\n",
    "\n",
    "assert len(img_idxs) == len(dataset['train'])\n",
    "    \n",
    "pickle.dump(img_idxs, open('../cptData/llava/img_idxs.pkl', 'wb'))"
   ]
  },
  {
   "cell_type": "code",
   "execution_count": 34,
   "metadata": {},
   "outputs": [
    {
     "name": "stdout",
     "output_type": "stream",
     "text": [
      "/home/li/basu_workspace/nanoGPT\n"
     ]
    },
    {
     "name": "stderr",
     "output_type": "stream",
     "text": [
      "Found cached dataset json (/home/li/.cache/huggingface/datasets/liuhaotian___json/liuhaotian--LLaVA-Instruct-150K-1764f60a2e27bb0f/0.0.0/e347ab1c932092252e717ff3f949105a4dd28b27e842dd53157d2f72e276c2e4)\n",
      "100%|██████████| 1/1 [00:00<00:00, 82.47it/s]\n",
      "100%|██████████| 394276/394276 [00:30<00:00, 12842.96it/s]\n",
      "100%|██████████| 394276/394276 [02:02<00:00, 3228.28it/s] \n"
     ]
    }
   ],
   "source": [
    "# data_cleaned = []\n",
    "\n",
    "# for i in trange(len(dataset['train'])):\n",
    "# # for i in range(12):\n",
    "#     con = dataset['train'][i]['conversations']\n",
    "#     con = \"###User: \" + con[0]['value'] + \"\\n###Bot:\" + con[1]['value']\n",
    "#     con = con.replace('<image>\\n', '')\n",
    "#     data_cleaned.append(con)\n",
    "    \n",
    "    \n",
    "# sys.path.append(pth)\n",
    "# from llamaTokenizer import LLaMAtokenizer\n",
    "\n",
    "# tokenizer_path = os.path.join(os.path.dirname(pth), \"cptData/lit-llama/tokenizer.model\")\n",
    "\n",
    "# train_frac = 0.9\n",
    "# seq_len = 2048\n",
    "\n",
    "# tokenizer = LLaMAtokenizer(model_path=tokenizer_path)\n",
    "# enc = lambda s: tokenizer.encode(s, bos=False, eos=True)\n",
    "# dec = lambda s: tokenizer.decode(s)\n",
    "\n",
    "# encoded = [enc(data_cleaned[i]) for i in trange(len(data_cleaned))]\n",
    "# assert len (encoded) == len(data_cleaned)\n",
    "\n",
    "# encoded = [encoded[i] for i in range(len(encoded)) if len(encoded[i]) < seq_len]\n",
    "\n",
    "# ## save encoded as pickle\n",
    "# # import pickle\n",
    "# # with open(os.path.join(pth, '../cptData/llava/encoded.pkl'), 'wb') as f:\n",
    "# #     pickle.dump(encoded, f)"
   ]
  },
  {
   "cell_type": "code",
   "execution_count": 28,
   "metadata": {},
   "outputs": [
    {
     "name": "stderr",
     "output_type": "stream",
     "text": [
      "100%|██████████| 394276/394276 [00:34<00:00, 11329.07it/s]\n"
     ]
    }
   ],
   "source": [
    "# imgs = []\n",
    "# for i in trange(len(dataset['train'])):\n",
    "#     imgs.append(dataset['train'][i]['image'])"
   ]
  },
  {
   "cell_type": "code",
   "execution_count": 35,
   "metadata": {},
   "outputs": [
    {
     "name": "stdout",
     "output_type": "stream",
     "text": [
      "totalTokens: 50.07 M\n"
     ]
    }
   ],
   "source": [
    "totalTokens=0\n",
    "for i in encoded:\n",
    "    totalTokens+=len(i)\n",
    "print(\"totalTokens: {:.2f}\".format(totalTokens/1e6), \"M\")"
   ]
  },
  {
   "cell_type": "code",
   "execution_count": 46,
   "metadata": {},
   "outputs": [
    {
     "data": {
      "text/plain": [
       "(array([1.52415e+05, 2.55800e+04, 1.30063e+05, 5.80320e+04, 1.36280e+04,\n",
       "        7.91000e+03, 4.75800e+03, 1.55500e+03, 3.05000e+02, 3.00000e+01]),\n",
       " array([ 21. ,  75.2, 129.4, 183.6, 237.8, 292. , 346.2, 400.4, 454.6,\n",
       "        508.8, 563. ]),\n",
       " <BarContainer object of 10 artists>)"
      ]
     },
     "execution_count": 46,
     "metadata": {},
     "output_type": "execute_result"
    },
    {
     "data": {
      "image/png": "[encoded data removed]",
      "text/plain": [
       "<Figure size 640x480 with 1 Axes>"
      ]
     },
     "metadata": {},
     "output_type": "display_data"
    }
   ],
   "source": [
    "import matplotlib.pyplot as plt\n",
    "\n",
    "lens = [len(i) for i in encoded]\n",
    "lens = sorted(lens)\n",
    "plt.hist(lens)"
   ]
  },
  {
   "cell_type": "code",
   "execution_count": null,
   "metadata": {},
   "outputs": [],
   "source": [
    "totalTokens=0\n",
    "for i in encoded:\n",
    "    totalTokens+=len(i)\n",
    "print(\"totalTokens: {:.2f}\".format(totalTokens/1e6), \"M\")\n",
    "\n",
    "\n",
    "num_train = totalTokens//seq_len + 1\n",
    "\n",
    "train_ids = encoded[:int(train_frac*len(encoded))]\n",
    "val_ids = encoded[int(train_frac*len(encoded)):]\n",
    "print(\"train_ids.shape: \", train_ids.shape)\n",
    "print(\"val_ids.shape: \", val_ids.shape)\n",
    "\n",
    "# export to bin files\n",
    "train_ids = np.array(train_ids, dtype=np.uint16)\n",
    "val_ids = np.array(val_ids, dtype=np.uint16)\n",
    "\n",
    "train_ids.tofile(os.path.join(pth, 'data/{dataset}/train.bin'.format(dataset=dataset)))\n",
    "val_ids.tofile(os.path.join(pth, 'data/{dataset}/val.bin'.format(dataset=dataset)))"
   ]
  },
  {
   "cell_type": "code",
   "execution_count": 38,
   "metadata": {},
   "outputs": [
    {
     "name": "stdout",
     "output_type": "stream",
     "text": [
      "COCO_train2014_000000482499.jpg\n"
     ]
    },
    {
     "ename": "NameError",
     "evalue": "name 'de' is not defined",
     "output_type": "error",
     "traceback": [
      "\u001b[0;31m---------------------------------------------------------------------------\u001b[0m",
      "\u001b[0;31mNameError\u001b[0m                                 Traceback (most recent call last)",
      "\u001b[1;32m/home/li/basu_workspace/nanoGPT/test.ipynb Cell 5\u001b[0m in \u001b[0;36m<cell line: 7>\u001b[0;34m()\u001b[0m\n\u001b[1;32m      <a href='vscode-notebook-cell://ssh-remote%2Bece228-3.ucsd.edu/home/li/basu_workspace/nanoGPT/test.ipynb#X46sdnNjb2RlLXJlbW90ZQ%3D%3D?line=4'>5</a>\u001b[0m imgs \u001b[39m=\u001b[39m os\u001b[39m.\u001b[39mlistdir(\u001b[39m'\u001b[39m\u001b[39m/home/li/basu_workspace/cptData/train2014\u001b[39m\u001b[39m'\u001b[39m)\n\u001b[1;32m      <a href='vscode-notebook-cell://ssh-remote%2Bece228-3.ucsd.edu/home/li/basu_workspace/nanoGPT/test.ipynb#X46sdnNjb2RlLXJlbW90ZQ%3D%3D?line=5'>6</a>\u001b[0m \u001b[39mprint\u001b[39m(imgs[\u001b[39m0\u001b[39m])\n\u001b[0;32m----> <a href='vscode-notebook-cell://ssh-remote%2Bece228-3.ucsd.edu/home/li/basu_workspace/nanoGPT/test.ipynb#X46sdnNjb2RlLXJlbW90ZQ%3D%3D?line=6'>7</a>\u001b[0m de\n\u001b[1;32m      <a href='vscode-notebook-cell://ssh-remote%2Bece228-3.ucsd.edu/home/li/basu_workspace/nanoGPT/test.ipynb#X46sdnNjb2RlLXJlbW90ZQ%3D%3D?line=7'>8</a>\u001b[0m imgs \u001b[39m=\u001b[39m [img[\u001b[39m15\u001b[39m:] \u001b[39mfor\u001b[39;00m img \u001b[39min\u001b[39;00m imgs]\n\u001b[1;32m      <a href='vscode-notebook-cell://ssh-remote%2Bece228-3.ucsd.edu/home/li/basu_workspace/nanoGPT/test.ipynb#X46sdnNjb2RlLXJlbW90ZQ%3D%3D?line=8'>9</a>\u001b[0m imgs \u001b[39m=\u001b[39m \u001b[39msorted\u001b[39m(imgs)\n",
      "\u001b[0;31mNameError\u001b[0m: name 'de' is not defined"
     ]
    }
   ],
   "source": [
    "## check if all imgs in llava dataset are in COCO\n",
    "\n",
    "import os\n",
    "import bisect\n",
    "from tqdm import trange\n",
    "\n",
    "imgs = os.listdir('/home/li/basu_workspace/cptData/train2014')\n",
    "print(imgs[0])\n",
    "de\n",
    "imgs = [img[15:] for img in imgs]\n",
    "imgs = sorted(imgs)\n",
    "\n",
    "\n",
    "for i in trange(len(dataset['train'])):\n",
    "    img = dataset['train'][i]['image']\n",
    "    if bisect.bisect_left(imgs, img) == len(imgs) or imgs[bisect.bisect_left(imgs, img)] != img:\n",
    "        print(img, i)\n",
    "        raise ValueError('img not found')"
   ]
  },
  {
   "attachments": {},
   "cell_type": "markdown",
   "metadata": {},
   "source": [
    "# Safe Tensors"
   ]
  },
  {
   "cell_type": "code",
   "execution_count": null,
   "metadata": {},
   "outputs": [],
   "source": [
    "import torch\n",
    "import safetensors\n",
    "from safetensors.torch import save_model\n",
    "\n",
    "save_model(model, 'my_model.safetensors')\n",
    "\n",
    "# tensors = {}\n",
    "# with safe_open(\"model.safetensors\", framework=\"pt\", device=\"cpu\") as f:\n",
    "#    for key in f.keys():\n",
    "#        tensors[key] = f.get_tensor(key)"
   ]
  },
  {
   "cell_type": "code",
   "execution_count": null,
   "metadata": {},
   "outputs": [],
   "source": [
    "import safetensors\n",
    "safetensors.torch.load_model(model, 'my_model.safetensors')"
   ]
  }
 ],
 "metadata": {
  "kernelspec": {
   "display_name": "Python 3",
   "language": "python",
   "name": "python3"
  },
  "language_info": {
   "codemirror_mode": {
    "name": "ipython",
    "version": 3
   },
   "file_extension": ".py",
   "mimetype": "text/x-python",
   "name": "python",
   "nbconvert_exporter": "python",
   "pygments_lexer": "ipython3",
   "version": "3.8.16"
  },
  "orig_nbformat": 4
 },
 "nbformat": 4,
 "nbformat_minor": 2
}
